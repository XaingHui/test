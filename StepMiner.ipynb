{
 "cells": [
  {
   "cell_type": "code",
   "execution_count": null,
   "metadata": {
    "collapsed": true
   },
   "outputs": [],
   "source": [
    "stepminer(prefix)"
   ]
  },
  {
   "cell_type": "code",
   "execution_count": 77,
   "metadata": {
    "collapsed": true
   },
   "outputs": [],
   "source": [
    "def stepminer(prefix):\n",
    "    import math\n",
    "    import pandas as pd\n",
    "    import numpy as np\n",
    "    import matplotlib.pyplot as plt\n",
    "    try:\n",
    "        expr_df = pd.read_table(prefix+\"-expr.txt\")\n",
    "        #print(expr_df)\n",
    "    except:\n",
    "        print('-expr file not found')\n",
    "    try:\n",
    "        idx_df = pd.read_table(prefix+\"-idx.txt\")\n",
    "    except:\n",
    "        print('-idx file not found')\n",
    "    try:\n",
    "        ih_df = pd.read_table(prefix+\"-ih.txt\")\n",
    "    except:\n",
    "        print('-ih file not found')\n",
    "    try:\n",
    "        surv_df = pd.read_table(prefix+\"-survival.txt\")\n",
    "    except:\n",
    "        print('-survival file not found')\n",
    "    thresholds=findThresholds(expr_df)\n",
    "    writeThrTxt(thresholds)\n",
    "    writeInfoTxt(thresholds)\n",
    "    writeBVTxt(thresholds)\n",
    "    \n",
    "    \n",
    "    return\n",
    "        "
   ]
  },
  {
   "cell_type": "code",
   "execution_count": 71,
   "metadata": {
    "collapsed": true
   },
   "outputs": [],
   "source": [
    "def findThresholds(expr_df):\n",
    "    sample_columns = list(expr_df.columns)[2:]\n",
    "    thresholds  = []\n",
    "    for index, row in expr_df.iterrows():\n",
    "        probe_id = row[\"ProbeID\"]\n",
    "        name = row[\"Name\"]\n",
    "        values = row[sample_columns].tolist()\n",
    "        #print(values)\n",
    "        thr_vals = fit_step_miner(values)\n",
    "        thr_vals[\"name\"]=name\n",
    "        thr_vals[\"probe_id\"]=probe_id\n",
    "        stat = f_statistic(thr_vals[\"sse\"],thr_vals[\"sstot\"],thr_vals[\"n\"])\n",
    "        thr_vals[\"stat\"]=round(stat,3)\n",
    "        thr_vals[\"thr-0.5\"]=round(thr_vals[\"thr\"]-0.5,3)\n",
    "        thr_vals[\"thr+0.5\"]=round(thr_vals[\"thr\"]+0.5,3)\n",
    "        thresholds.append(thr_vals)#thr_vals is a dict\n",
    "        \n",
    "    return thresholds\n",
    "\n"
   ]
  },
  {
   "cell_type": "code",
   "execution_count": 72,
   "metadata": {},
   "outputs": [],
   "source": [
    "def fit_step_miner(values):  # l is a list\n",
    "    l=sorted(values)\n",
    "    # Sort the list if not sorted\n",
    "    n = len(l)\n",
    "    n1 = 0\n",
    "    n2 = n\n",
    "    min_m1 = m1 = 0\n",
    "    m2 = sum(l)/n\n",
    "    min_m2 = m = m2\n",
    "    min_i = -1\n",
    "    sse = sum([(x - m2)**2 for x in l])\n",
    "    sstot = sse\n",
    "    min_sse = sse\n",
    "    ssr = 0\n",
    "    thr = - float('inf')\n",
    "    for i,x in enumerate(l):\n",
    "        m1 = ((m1* n1) + x)/(n1+1)\n",
    "        n1+=1\n",
    "        if n1 == n:\n",
    "            m2 = 0\n",
    "            n2 = 0\n",
    "        else:\n",
    "            m2 = ((m2 * n2) - x)/(n2 - 1)\n",
    "            n2 = n2 - 1\n",
    "        ssr = (n1 * ((m1 - m)**2)) + (n2 * ((m2 - m)**2))\n",
    "        sse = (sstot - ssr)\n",
    "        if min_sse > sse:\n",
    "            #print(i)\n",
    "            min_sse = sse\n",
    "            min_m1 = m1\n",
    "            min_m2 = m2\n",
    "            thr = x\n",
    "            min_i = i\n",
    "    ret_vals = {}\n",
    "    #l_mean=np.mean(l)\n",
    "    l_mean = m\n",
    "    l_thr=(min_m1+min_m2)/2\n",
    "    ret_vals[\"mean\"]=round(l_mean,3)\n",
    "    ret_vals[\"min\"]=round(min(l),3)\n",
    "    ret_vals[\"max\"]=round(max(l),3)\n",
    "    ret_vals[\"mean-thr\"]=round(l_mean-l_thr,3)\n",
    "    ret_vals[\"sd\"]=round(np.std(l),3)\n",
    "    ret_vals[\"thr\"] =round(l_thr,3)\n",
    "    ret_vals[\"sse\"] = round(min_sse,3)\n",
    "    ret_vals[\"sstot\"] = round(sstot,3)\n",
    "    ret_vals[\"n\"] = n\n",
    "    \n",
    "    upperlim=l_thr+0.5\n",
    "    lowerlim=l_thr-0.5\n",
    "    BVlist=[]\n",
    "    for val in values:\n",
    "        if(val>upperlim):\n",
    "            BVlist.append('2')\n",
    "        else: \n",
    "            if(val<lowerlim):\n",
    "                BVlist.append('0')\n",
    "            else:\n",
    "                BVlist.append('1')\n",
    "    BVstring=''.join(BVlist)\n",
    "    ret_vals[\"BV\"]=BVstring\n",
    "    \n",
    "    hi=sum([1 for i in BVlist if i=='2'])\n",
    "    low=sum([1 for i in BVlist if i=='0'])\n",
    "    inter=len(BVlist)-hi-low\n",
    "    #print(values)\n",
    "    #print(l_thr)\n",
    "    #print(BVstring)\n",
    "    ret_vals[\"hi\"]=hi\n",
    "    ret_vals[\"lo\"]=low\n",
    "    ret_vals[\"int\"]=inter\n",
    "    \n",
    "    #perc\n",
    "    if(l_thr>l_mean):\n",
    "        numb_betw=sum([1 for i in l if i>=l_mean and i<=l_thr])\n",
    "        numb_below=sum([1 for i in l if i<=l_thr])\n",
    "        perc=-1*numb_betw/numb_below\n",
    "    else:\n",
    "        numb_betw=sum([1 for i in l if i<=l_mean and i>=l_thr])\n",
    "        numb_above=sum([1 for i in l if i>=l_thr])\n",
    "        perc=numb_betw/numb_above\n",
    "    ret_vals[\"perc\"]=round(perc,3)\n",
    "    \n",
    "    #thrnum\n",
    "    thrnum=sum([1 for i in l if i<=l_thr])\n",
    "    ret_vals[\"thrNum\"]=thrnum\n",
    "\n",
    "    return ret_vals"
   ]
  },
  {
   "cell_type": "code",
   "execution_count": 73,
   "metadata": {
    "collapsed": true
   },
   "outputs": [],
   "source": [
    "def f_statistic(sse,sstot,n):\n",
    "    ssr = sstot - sse\n",
    "    dof_ssr = 3 if n > 4 else 2\n",
    "    dof_sse = n - 4 if n > 4 else 1\n",
    "    msr = ssr/dof_ssr\n",
    "    mse = sse/dof_sse\n",
    "    return(msr/mse)"
   ]
  },
  {
   "cell_type": "code",
   "execution_count": 74,
   "metadata": {
    "collapsed": true
   },
   "outputs": [],
   "source": [
    "def writeThrTxt(thresholds):\n",
    "    with open(prefix+'-thr.txt','w') as f:\n",
    "        for dic in thresholds:\n",
    "                f.write(dic[\"probe_id\"]+\"\\t\"+str(dic[\"thr\"])+\"\\t\"+str(dic[\"stat\"])+\"\\t\"+str(dic[\"thr-0.5\"])+\"\\t\"\n",
    "                        +str(dic[\"thr+0.5\"])+\"\\t\")\n",
    "                f.write('\\n')\n",
    "    return"
   ]
  },
  {
   "cell_type": "code",
   "execution_count": 75,
   "metadata": {
    "collapsed": true
   },
   "outputs": [],
   "source": [
    "def writeInfoTxt(thresholds):\n",
    "    with open(prefix+'-info.txt','w') as f:\n",
    "        f.write(\"AffyID\"+\"\\t\"+\"name\"+\"\\t\"+\"thr\"+\"\\t\"+\"mean\"+\"\\t\"+\"mean-thr\"+\n",
    "                \"\\t\"+\"perc\"+\"\\t\"+\"min\"+\"\\t\"+\"max\"+\"\\t\"+\"sd\"+\"\\t\"+\"thrNum\"+\"\\t\"+\"hi\"+\"\\t\"+\"int\"+\"\\t\"+\"lo\"+\"\\n\")\n",
    "        for t in thresholds:\n",
    "            f.write(t[\"probe_id\"]+\"\\t\"+t[\"name\"].split(\":\")[0]+\"\\t\"+str(t[\"thr\"])+\"\\t\"+str(t[\"mean\"])+\"\\t\"+str(t[\"mean-thr\"])+\n",
    "                \"\\t\"+str(t[\"perc\"])+\"\\t\"+str(t[\"min\"])+\"\\t\"+str(t[\"max\"])+\"\\t\"+str(t[\"sd\"])+\"\\t\"+str(t[\"thrNum\"])+\"\\t\"+str(t[\"hi\"])+\"\\t\"+\n",
    "                    str(t[\"int\"])+\"\\t\"+str(t[\"lo\"]))\n",
    "            f.write('\\n')\n",
    "    return"
   ]
  },
  {
   "cell_type": "code",
   "execution_count": 76,
   "metadata": {
    "collapsed": true
   },
   "outputs": [],
   "source": [
    "def writeBVTxt(thresholds):\n",
    "    with open(prefix+'-bv.txt','w') as f:\n",
    "        f.write(\"ArrayID\"+\"\\t\"+\"name\"+\"\\t\"+\"BitVector\"+\"\\n\")\n",
    "        for t in thresholds:\n",
    "            f.write(t[\"probe_id\"]+\"\\t\"+t[\"name\"]+\"\\t\"+t[\"BV\"])\n",
    "            f.write('\\n')\n",
    "    return\n",
    "    "
   ]
  },
  {
   "cell_type": "code",
   "execution_count": null,
   "metadata": {
    "collapsed": true
   },
   "outputs": [],
   "source": []
  }
 ],
 "metadata": {
  "kernelspec": {
   "display_name": "Python 3",
   "language": "python",
   "name": "python3"
  },
  "language_info": {
   "codemirror_mode": {
    "name": "ipython",
    "version": 3
   },
   "file_extension": ".py",
   "mimetype": "text/x-python",
   "name": "python",
   "nbconvert_exporter": "python",
   "pygments_lexer": "ipython3",
   "version": "3.6.3"
  }
 },
 "nbformat": 4,
 "nbformat_minor": 2
}
